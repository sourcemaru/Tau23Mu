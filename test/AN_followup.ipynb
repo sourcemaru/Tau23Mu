{
 "cells": [
  {
   "cell_type": "code",
   "execution_count": 1,
   "metadata": {},
   "outputs": [],
   "source": [
    "import uproot\n",
    "import awkward as ak\n",
    "import vector\n",
    "import numpy as np\n",
    "import matplotlib.pyplot as plt\n",
    "\n",
    "vector.register_awkward()"
   ]
  },
  {
   "cell_type": "code",
   "execution_count": 2,
   "metadata": {},
   "outputs": [],
   "source": [
    "data_path = '../data/DoubleMuonLowMass_Run2018A.root'\n",
    "\n",
    "data = uproot.open(f'{data_path}:Events;1')"
   ]
  },
  {
   "cell_type": "code",
   "execution_count": 3,
   "metadata": {},
   "outputs": [
    {
     "name": "stdout",
     "output_type": "stream",
     "text": [
      "hlt_keys: ['HLT_Tau3Mu_Mu7_Mu1_TkMu1_IsoTau15_Charge1', 'HLT_Tau3Mu_Mu7_Mu1_TkMu1_Tau15_Charge1']\n",
      "Before filtering, Event #: 2040266\n",
      "After filtering, Event #: 322902\n"
     ]
    }
   ],
   "source": [
    "data_length = len(data['event'].array())\n",
    "\n",
    "\n",
    "target_hlt_keys = [\n",
    "    'HLT_Tau3Mu_Mu5_Mu1_TkMu1_IsoTau10_Charge1',\n",
    "    'HLT_Tau3Mu_Mu7_Mu1_TkMu1_IsoTau15_Charge1',\n",
    "    'HLT_Tau3Mu_Mu7_Mu1_TkMu1_Tau15_Charge1',\n",
    "]\n",
    "\n",
    "data_hlt_keys = data.keys(filter_name='HLT_Tau3Mu*')\n",
    "\n",
    "hlt_keys = [hlt_key for hlt_key in target_hlt_keys if hlt_key in data_hlt_keys]\n",
    "\n",
    "print(f\"hlt_keys: {hlt_keys}\")\n",
    "\n",
    "hlt_mask = ak.Array(np.zeros(data_length, dtype=bool))\n",
    "\n",
    "for hlt_key in hlt_keys:\n",
    "    hlt_mask = hlt_mask | data[hlt_key].array()\n",
    "\n",
    "\n",
    "print(f\"Before filtering, Event #: {data_length}\")\n",
    "print(f\"After filtering, Event #: {np.count_nonzero(hlt_mask)}\")"
   ]
  },
  {
   "cell_type": "code",
   "execution_count": 4,
   "metadata": {},
   "outputs": [
    {
     "name": "stdout",
     "output_type": "stream",
     "text": [
      "[3, 3, 3, 3, 4, 3, 3, 3, 3, 3, 3, 4, 3, ..., 4, 3, 3, 3, 3, 3, 3, 3, 3, 4, 3, 3]\n",
      "[[{rho: 13, phi: 0.76, eta: 0.813, tau: 0.106, charge: 1, ...}, ..., {...}],\n",
      " [{rho: 7.61, phi: -1.81, eta: -2.1, tau: 0.106, charge: -1, ...}, ..., {...}],\n",
      " [{rho: 7.49, phi: -0.707, eta: -0.728, tau: 0.106, charge: 1, ...}, ...],\n",
      " [{rho: 19.9, phi: 0.702, eta: 0.836, tau: 0.106, charge: 1, ...}, ..., {...}],\n",
      " [{rho: 9.19, phi: -2.04, eta: 1.39, tau: 0.106, charge: -1, ...}, ..., {...}],\n",
      " ...,\n",
      " [{rho: 8.39, phi: -0.111, eta: 0.764, tau: 0.106, charge: -1, ...}, ...],\n",
      " [{rho: 14.1, phi: 2.82, eta: -1.83, tau: 0.106, charge: -1, ...}, ..., {...}],\n",
      " [{rho: 15.7, phi: -2.69, eta: -1.31, tau: 0.106, charge: 1, ...}, ..., {...}],\n",
      " [{rho: 10, phi: -0.968, eta: -2.04, tau: 0.106, charge: 1, ...}, ..., {...}]]\n",
      "None\n"
     ]
    }
   ],
   "source": [
    "#muon_mediumId = data['Muon_mediumId'].array()[hlt_mask]\n",
    "\n",
    "muon = vector.zip(\n",
    "    {\n",
    "        #'event': data['event'].array()[hlt_mask],\n",
    "        'pt': data['Muon_pt'].array()[hlt_mask],\n",
    "        'eta': data['Muon_eta'].array()[hlt_mask],\n",
    "        'phi': data['Muon_phi'].array()[hlt_mask],\n",
    "        'mass': data['Muon_mass'].array()[hlt_mask],\n",
    "        'charge': data['Muon_charge'].array()[hlt_mask],\n",
    "        'mediumId': data['Muon_mediumId'].array()[hlt_mask]\n",
    "    }\n",
    ")\n",
    "\n",
    "muon_mask1 = (muon.pt > 3.5) & (abs(muon.eta) <= 1.2)\n",
    "muon_mask2 = (muon.pt > 2.0) & (abs(muon.eta) <= 2.4) & (abs(muon.eta) >= 1.2)\n",
    "\n",
    "muon_mask = ak.count((muon_mask1 | muon_mask2) & muon.mediumId, axis=1) >= 3\n",
    "\n",
    "muon = muon[muon_mask]\n",
    "\n",
    "print(ak.count(muon, axis=1))\n",
    "print(muon.show(10))\n"
   ]
  },
  {
   "cell_type": "code",
   "execution_count": 5,
   "metadata": {},
   "outputs": [
    {
     "data": {
      "image/png": "[encoded data removed]",
      "text/plain": [
       "<Figure size 640x480 with 1 Axes>"
      ]
     },
     "metadata": {},
     "output_type": "display_data"
    }
   ],
   "source": [
    "plt.hist(ak.count(muon, axis=1), log=True)\n",
    "plt.show()"
   ]
  },
  {
   "cell_type": "code",
   "execution_count": 6,
   "metadata": {},
   "outputs": [
    {
     "data": {
      "image/png": "[encoded data removed]",
      "text/plain": [
       "<Figure size 640x480 with 1 Axes>"
      ]
     },
     "metadata": {},
     "output_type": "display_data"
    }
   ],
   "source": [
    "plt.hist(muon.pt[:, 0],              density=True, bins=60, alpha=0.6, range=(0, 60), label=\"leading_muon\")\n",
    "plt.hist(muon.pt[:, 1],              density=True, bins=60, alpha=0.6, range=(0, 60), label=\"subleading_muon\")\n",
    "plt.hist(ak.flatten(muon.pt[:, 2:]), density=True, bins=60, alpha=0.6, range=(0, 60), label=\"trailing_muon\")\n",
    "plt.xlim(0, 60)\n",
    "plt.xlabel(\"pT [GeV]\")\n",
    "plt.ylabel(\"entries\")\n",
    "plt.legend()\n",
    "plt.show()"
   ]
  },
  {
   "cell_type": "code",
   "execution_count": 25,
   "metadata": {},
   "outputs": [
    {
     "name": "stdout",
     "output_type": "stream",
     "text": [
      "[[{rho: 22.3, phi: 0.755, eta: 0.844, tau: 1.76, charge: -1}],\n",
      " [{rho: 7.28, phi: -1.8, eta: -2.33, tau: 34.3, charge: -1}],\n",
      " ...,\n",
      " [{rho: 12.5, phi: -1.16, eta: -2.38, tau: 21.7, charge: 1}]]\n",
      "######################################################################################################################################################\n",
      "[[{rho: 22.3, phi: 0.755, eta: 0.844, tau: 1.76, charge: -1}],\n",
      " [],\n",
      " ...,\n",
      " []]\n",
      "######################################################################################################################################################\n",
      "Events Number three muons charge sum != 1 or -1: 1518\n",
      "[[{rho: 22.3, phi: 0.755, eta: 0.844, tau: 1.76, charge: -1}],\n",
      " [],\n",
      " ...,\n",
      " []]\n"
     ]
    }
   ],
   "source": [
    "# τ candidates are formed in each event by combining all the possible triplets of muons passing the pre-selection, that is, satisfying the Medium ID requirements and being matched to the objects firing the trigger (for further details on the trigger matching, see Sec.5.4).\n",
    "muon1, muon2, muon3 = ak.unzip(ak.combinations(muon, 3))\n",
    "tau_candidate = muon1 + muon2 + muon3\n",
    "tau_candidate['charge'] = muon1['charge'] + muon2['charge'] + muon3['charge']\n",
    "\n",
    "\n",
    "# The invariant mass of the τ candidates should be lower than 3 GeV,\n",
    "tau_candidate = tau_candidate[tau_candidate.mass < 3]\n",
    "\n",
    "\n",
    "# τ candidate charge has to be ±1\n",
    "print(\"#\"*150)\n",
    "print(f\"Events Number three muons charge sum != 1 or -1: {np.count_nonzero(~((tau_candidate.charge == 1) | (tau_candidate.charge == -1)))}\")\n",
    "tau_candidate = tau_candidate[(tau_candidate.charge == 1) | (tau_candidate.charge == -1)]\n",
    "tau_candidate.show(limit_rows=4, limit_cols=300)\n",
    "\n",
    "\n",
    "# The three muons are fit to a common vertex through a kinematic fit [31], and the vertex is required to be valid.\n",
    "# The muon tracks are refitted, applying this vertex as a constrain, and the refitted quantities are used in all the following steps of the analysis.\n",
    "# τ candidates are discarded if any of the three muons can make a “good” vertex with an extra opposite charged muon (not already considered as part of the τ candidate)"
   ]
  }
 ],
 "metadata": {
  "kernelspec": {
   "display_name": "Python 3",
   "language": "python",
   "name": "python3"
  },
  "language_info": {
   "codemirror_mode": {
    "name": "ipython",
    "version": 3
   },
   "file_extension": ".py",
   "mimetype": "text/x-python",
   "name": "python",
   "nbconvert_exporter": "python",
   "pygments_lexer": "ipython3",
   "version": "3.11.7"
  }
 },
 "nbformat": 4,
 "nbformat_minor": 2
}
