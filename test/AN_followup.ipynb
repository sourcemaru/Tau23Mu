{
 "cells": [
  {
   "cell_type": "code",
   "execution_count": 1,
   "metadata": {},
   "outputs": [],
   "source": [
    "import uproot\n",
    "import awkward as ak\n",
    "import vector\n",
    "import numpy as np\n",
    "import matplotlib.pyplot as plt"
   ]
  },
  {
   "cell_type": "code",
   "execution_count": 2,
   "metadata": {},
   "outputs": [],
   "source": [
    "data_path = '../data/DoubleMuonLowMass_Run2018A.root'\n",
    "\n",
    "data = uproot.open(f'{data_path}:Events;1')"
   ]
  },
  {
   "cell_type": "code",
   "execution_count": 3,
   "metadata": {},
   "outputs": [
    {
     "name": "stdout",
     "output_type": "stream",
     "text": [
      "hlt_keys: ['HLT_Tau3Mu_Mu7_Mu1_TkMu1_IsoTau15_Charge1', 'HLT_Tau3Mu_Mu7_Mu1_TkMu1_Tau15_Charge1']\n",
      "Before filtering, Event #: 2040266\n",
      "After filtering, Event #: 322902\n"
     ]
    }
   ],
   "source": [
    "data_length = len(data['event'].array())\n",
    "\n",
    "\n",
    "target_hlt_keys = [\n",
    "    'HLT_Tau3Mu_Mu5_Mu1_TkMu1_IsoTau10_Charge1',\n",
    "    'HLT_Tau3Mu_Mu7_Mu1_TkMu1_IsoTau15_Charge1',\n",
    "    'HLT_Tau3Mu_Mu7_Mu1_TkMu1_Tau15_Charge1',\n",
    "]\n",
    "\n",
    "data_hlt_keys = data.keys(filter_name='HLT_Tau3Mu*')\n",
    "\n",
    "hlt_keys = [hlt_key for hlt_key in target_hlt_keys if hlt_key in data_hlt_keys]\n",
    "\n",
    "print(f\"hlt_keys: {hlt_keys}\")\n",
    "\n",
    "hlt_mask = ak.Array(np.zeros(data_length, dtype=bool))\n",
    "\n",
    "for hlt_key in hlt_keys:\n",
    "    hlt_mask = hlt_mask | data[hlt_key].array()\n",
    "\n",
    "\n",
    "print(f\"Before filtering, Event #: {data_length}\")\n",
    "print(f\"After filtering, Event #: {np.count_nonzero(hlt_mask)}\")"
   ]
  },
  {
   "cell_type": "code",
   "execution_count": 37,
   "metadata": {},
   "outputs": [
    {
     "name": "stdout",
     "output_type": "stream",
     "text": [
      "[3, 3, 3, 3, 4, 3, 3, 3, 3, 3, 3, 4, 3, ..., 4, 3, 3, 3, 3, 3, 3, 3, 3, 4, 3, 3]\n",
      "[[{rho: 13, phi: 0.76, eta: 0.813, tau: 0.106}, ..., {rho: 3.9, phi: ..., ...}],\n",
      " [{rho: 7.61, phi: -1.81, eta: -2.1, tau: 0.106}, {...}, {rho: 3.57, ...}],\n",
      " [{rho: 7.49, phi: -0.707, eta: -0.728, tau: 0.106}, ..., {rho: 3.86, ...}],\n",
      " [{rho: 19.9, phi: 0.702, eta: 0.836, tau: 0.106}, ..., {rho: 8.61, ...}],\n",
      " [{rho: 9.19, phi: -2.04, eta: 1.39, tau: 0.106}, {...}, ..., {rho: 3.25, ...}],\n",
      " [{rho: 8, phi: 1.27, eta: 0.633, tau: 0.106}, ..., {rho: 3.89, phi: ..., ...}],\n",
      " [{rho: 11.7, phi: 2.32, eta: -1.14, tau: 0.106}, {...}, {rho: 4.63, ...}],\n",
      " [{rho: 10.9, phi: 1.68, eta: -1.62, tau: 0.106}, {...}, {rho: 3.28, ...}],\n",
      " [{rho: 9.45, phi: -1.47, eta: 1.95, tau: 0.106}, {...}, {rho: 3.52, ...}],\n",
      " [{rho: 9.91, phi: -2.03, eta: 1.44, tau: 0.106}, {...}, {rho: 3.68, ...}],\n",
      " ...,\n",
      " [{rho: 8.42, phi: -0.109, eta: 1.58, tau: 0.106}, ..., {rho: 3.99, ...}],\n",
      " [{rho: 8.26, phi: 3.05, eta: -1.69, tau: 0.106}, {...}, {rho: 3.8, ...}],\n",
      " [{rho: 16.1, phi: 1.07, eta: 2.32, tau: 0.106}, {...}, {rho: 3.23, ...}],\n",
      " [{rho: 14.2, phi: -1.01, eta: 1.76, tau: 0.106}, {...}, {rho: 3.18, ...}],\n",
      " [{rho: 17.7, phi: 0.891, eta: 1.99, tau: 0.106}, {...}, {rho: 4.94, ...}],\n",
      " [{rho: 8.39, phi: -0.111, eta: 0.764, tau: 0.106}, ..., {rho: 3.04, ...}],\n",
      " [{rho: 14.1, phi: 2.82, eta: -1.83, tau: 0.106}, {...}, ..., {rho: 3.17, ...}],\n",
      " [{rho: 15.7, phi: -2.69, eta: -1.31, tau: 0.106}, ..., {rho: 3.43, ...}],\n",
      " [{rho: 10, phi: -0.968, eta: -2.04, tau: 0.106}, {...}, {rho: 5.23, ...}]]\n",
      "None\n"
     ]
    }
   ],
   "source": [
    "muon_mediumId = data['Muon_mediumId'].array()[hlt_mask]\n",
    "\n",
    "muon_p4 = vector.zip({\n",
    "    'pt': data['Muon_pt'].array()[hlt_mask],\n",
    "    'eta': data['Muon_eta'].array()[hlt_mask],\n",
    "    'phi': data['Muon_phi'].array()[hlt_mask],\n",
    "    'mass': data['Muon_mass'].array()[hlt_mask]\n",
    "})\n",
    "\n",
    "muon_mask1 = (muon_p4.pt > 3.5) & (abs(muon_p4.eta) <= 1.2)\n",
    "muon_mask2 = (muon_p4.pt > 2.0) & (abs(muon_p4.eta) <= 2.4) & (abs(muon_p4.eta) >= 1.2)\n",
    "\n",
    "selected_muon = (muon_mask1 | muon_mask2) & muon_mediumId\n",
    "muon_mask = ak.count(selected_muon, axis=1) >= 3\n",
    "\n",
    "muon_p4 = muon_p4[muon_mask]\n",
    "\n",
    "print(ak.count(muon_p4, axis=1))\n",
    "print(muon_p4.show())\n"
   ]
  },
  {
   "cell_type": "code",
   "execution_count": 43,
   "metadata": {},
   "outputs": [
    {
     "name": "stdout",
     "output_type": "stream",
     "text": [
      "[[17.6, 7.23, 5.91], [31.6, 6.84, 12.6], ..., [31.2, ...], [39.1, 25.4, 6.74]]\n"
     ]
    }
   ],
   "source": [
    "print(muon_p4.E)"
   ]
  },
  {
   "cell_type": "code",
   "execution_count": 42,
   "metadata": {},
   "outputs": [
    {
     "data": {
      "image/png": "[encoded data removed]",
      "text/plain": [
       "<Figure size 640x480 with 1 Axes>"
      ]
     },
     "metadata": {},
     "output_type": "display_data"
    }
   ],
   "source": [
    "plt.hist(muon_p4.pt[:, 0],              density=True, bins=60, alpha=0.6, range=(0, 60), label=\"leading_muon\")\n",
    "plt.hist(muon_p4.pt[:, 1],              density=True, bins=60, alpha=0.6, range=(0, 60), label=\"subleading_muon\")\n",
    "plt.hist(ak.flatten(muon_p4.pt[:, 2:]), density=True, bins=60, alpha=0.6, range=(0, 60), label=\"trailing_muon\")\n",
    "plt.xlim(0, 60)\n",
    "plt.xlabel(\"pT [GeV]\")\n",
    "plt.ylabel(\"entries\")\n",
    "plt.legend()\n",
    "plt.show()"
   ]
  },
  {
   "cell_type": "code",
   "execution_count": null,
   "metadata": {},
   "outputs": [],
   "source": [
    "# τ candidates are formed in each event by combining all the possible triplets of muons passing the pre-selection, that is, satisfying the Medium ID requirements and being matched to the objects firing the trigger (for further details on the trigger matching, see Sec.5.4).\n",
    "# The invariant mass of the τ candidates should be lower than 3 GeV,\n",
    "# τ candidate charge has to be ±1\n",
    "# The three muons are fit to a common vertex through a kinematic fit [31], and the vertex is required to be valid.\n",
    "# The muon tracks are refitted, applying this vertex as a constrain, and the refitted quantities are used in all the following steps of the analysis.\n",
    "# τ candidates are discarded if any of the three muons can make a “good” vertex with an extra opposite charged muon (not already considered as part of the τ candidate)"
   ]
  }
 ],
 "metadata": {
  "kernelspec": {
   "display_name": "Python 3",
   "language": "python",
   "name": "python3"
  },
  "language_info": {
   "codemirror_mode": {
    "name": "ipython",
    "version": 3
   },
   "file_extension": ".py",
   "mimetype": "text/x-python",
   "name": "python",
   "nbconvert_exporter": "python",
   "pygments_lexer": "ipython3",
   "version": "3.11.7"
  }
 },
 "nbformat": 4,
 "nbformat_minor": 2
}
