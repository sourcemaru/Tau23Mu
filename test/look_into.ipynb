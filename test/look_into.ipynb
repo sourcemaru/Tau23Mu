{
 "cells": [
  {
   "cell_type": "code",
   "execution_count": 8,
   "metadata": {},
   "outputs": [],
   "source": [
    "import json\n",
    "import numpy as np\n",
    "import pandas as pd\n",
    "import uproot\n",
    "import matplotlib.pyplot as plt\n",
    "import mplhep as mh\n",
    "import sys\n",
    "\n",
    "from hist.hist import Hist\n",
    "from hist.axis import Regular"
   ]
  },
  {
   "cell_type": "code",
   "execution_count": 71,
   "metadata": {},
   "outputs": [],
   "source": [
    "path_data = \"/u/user/sjws5411/Workspace/Tau23Mu/CMSSW_14_0_0_pre2/src/tau23mu/data/NANOAOD_2017C.root\"\n",
    "events = uproot.open(f\"{path_data}:Events;1\")\n",
    "#events.show()\n",
    "\n",
    "run = events[\"run\"].array(library=\"pd\")\n",
    "muon_mass = events[\"Muon_mass\"].array(library=\"pd\")\n",
    "muon_pt = events[\"Muon_pt\"].array(library=\"pd\")"
   ]
  },
  {
   "cell_type": "code",
   "execution_count": 20,
   "metadata": {},
   "outputs": [
    {
     "name": "stdout",
     "output_type": "stream",
     "text": [
      "0                          [0.105712890625, 0.105712890625]\n",
      "1                          [0.105712890625, 0.105712890625]\n",
      "2                          [0.105712890625, 0.105712890625]\n",
      "3                          [0.105712890625, 0.105712890625]\n",
      "4                          [0.105712890625, 0.105712890625]\n",
      "                                 ...                       \n",
      "1615374                    [0.105712890625, 0.105712890625]\n",
      "1615375    [0.105712890625, 0.105712890625, 0.105712890625]\n",
      "1615376    [0.105712890625, 0.105712890625, 0.105712890625]\n",
      "1615377                    [0.105712890625, 0.105712890625]\n",
      "1615378                                    [0.105712890625]\n",
      "Length: 1615379, dtype: awkward\n",
      "0                     [4.74568510055542, 4.4059247970581055]\n",
      "1                     [5.173349857330322, 4.273371696472168]\n",
      "2                     [7.445106506347656, 5.015425682067871]\n",
      "3                    [5.800719261169434, 5.1872406005859375]\n",
      "4                    [6.681195259094238, 3.8343629837036133]\n",
      "                                 ...                        \n",
      "1615374               [6.511318206787109, 5.261275768280029]\n",
      "1615375    [16.171953201293945, 5.2134552001953125, 4.921...\n",
      "1615376    [12.883536338806152, 8.924864768981934, 4.5264...\n",
      "1615377               [6.415894985198975, 4.761928558349609]\n",
      "1615378                                 [4.5219807624816895]\n",
      "Length: 1615379, dtype: awkward\n"
     ]
    }
   ],
   "source": [
    "print(muon_mass)\n",
    "print(muon_pt)"
   ]
  },
  {
   "cell_type": "code",
   "execution_count": 62,
   "metadata": {},
   "outputs": [
    {
     "name": "stdout",
     "output_type": "stream",
     "text": [
      "['HLT_Tau3Mu_Mu5_Mu1_TkMu1_Tau10', 'HLT_Tau3Mu_Mu5_Mu1_TkMu1_Tau10_Charge1', 'HLT_Tau3Mu_Mu5_Mu1_TkMu1_IsoTau10', 'HLT_Tau3Mu_Mu5_Mu1_TkMu1_IsoTau10_Charge1']\n"
     ]
    }
   ],
   "source": [
    "hlt_keys = events.keys(filter_name='HLT_Tau3Mu*')\n",
    "print(hlt_keys)\n",
    "\n",
    "muon_keys = [\n",
    "    'Muon_pt',\n",
    "    'Muon_eta',\n",
    "    'Muon_phi',\n",
    "    'Muon_charge',\n",
    "    'Muon_mass',\n",
    "]\n",
    "\n",
    "keys = muon_keys + hlt_keys"
   ]
  },
  {
   "cell_type": "code",
   "execution_count": 63,
   "metadata": {},
   "outputs": [],
   "source": [
    "data = events.arrays(keys, library='ak')"
   ]
  },
  {
   "cell_type": "code",
   "execution_count": 64,
   "metadata": {},
   "outputs": [],
   "source": [
    "hlt_passed = data[hlt_keys[0]] | data[hlt_keys[1]]"
   ]
  },
  {
   "cell_type": "code",
   "execution_count": 65,
   "metadata": {},
   "outputs": [],
   "source": [
    "data = data[hlt_passed]"
   ]
  },
  {
   "cell_type": "code",
   "execution_count": 66,
   "metadata": {},
   "outputs": [
    {
     "data": {
      "text/html": [
       "<pre>[[8.2, 4.64, 4.2],\n",
       " [5.27],\n",
       " [6.3],\n",
       " [6.81, 3.78],\n",
       " [11, 3.81],\n",
       " [12.8, 3.1],\n",
       " [5.04, 3.44],\n",
       " [4.57, 4.34],\n",
       " [5.15, 4.3],\n",
       " [5.72, 3.97],\n",
       " ...,\n",
       " [4.62, 3.65],\n",
       " [9.13, 3.49],\n",
       " [4.77, 3.72],\n",
       " [4.9, 3.97],\n",
       " [18.4, 9.81, 5.09],\n",
       " [11.4, 6.24],\n",
       " [10.5, 4.88],\n",
       " [10.1, 4.25, 3.8],\n",
       " [8.3, 4.83]]\n",
       "--------------------------\n",
       "type: 4199 * var * float32</pre>"
      ],
      "text/plain": [
       "<Array [[8.2, 4.64, 4.2], [5.27], ..., [8.3, 4.83]] type='4199 * var * float32'>"
      ]
     },
     "execution_count": 66,
     "metadata": {},
     "output_type": "execute_result"
    }
   ],
   "source": [
    "muon_mask = (data['Muon_pt'] > 1) & (np.abs(data['Muon_eta']) < 4)"
   ]
  },
  {
   "cell_type": "code",
   "execution_count": 70,
   "metadata": {},
   "outputs": [
    {
     "data": {
      "text/plain": [
       "['Muon_pdgId',\n",
       " 'Muon_highPtId',\n",
       " 'Muon_looseId',\n",
       " 'Muon_mediumId',\n",
       " 'Muon_mediumPromptId',\n",
       " 'Muon_miniIsoId',\n",
       " 'Muon_multiIsoId',\n",
       " 'Muon_mvaId',\n",
       " 'Muon_pfIsoId',\n",
       " 'Muon_softId',\n",
       " 'Muon_softMvaId',\n",
       " 'Muon_tightId',\n",
       " 'Muon_tkIsoId']"
      ]
     },
     "execution_count": 70,
     "metadata": {},
     "output_type": "execute_result"
    }
   ],
   "source": [
    "events.keys(filter_name='Muon*Id')"
   ]
  },
  {
   "cell_type": "code",
   "execution_count": null,
   "metadata": {},
   "outputs": [],
   "source": []
  }
 ],
 "metadata": {
  "kernelspec": {
   "display_name": "py39_ds4hep",
   "language": "python",
   "name": "python3"
  },
  "language_info": {
   "codemirror_mode": {
    "name": "ipython",
    "version": 3
   },
   "file_extension": ".py",
   "mimetype": "text/x-python",
   "name": "python",
   "nbconvert_exporter": "python",
   "pygments_lexer": "ipython3",
   "version": "3.11.7"
  }
 },
 "nbformat": 4,
 "nbformat_minor": 2
}
