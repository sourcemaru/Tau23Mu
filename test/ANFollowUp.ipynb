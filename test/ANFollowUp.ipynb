{
 "cells": [
  {
   "cell_type": "code",
   "execution_count": 83,
   "metadata": {},
   "outputs": [],
   "source": [
    "import uproot\n",
    "import numpy as np\n",
    "import awkward as ak\n",
    "#import pandas as pd\n",
    "#import matplotlib.pyplot as plt"
   ]
  },
  {
   "cell_type": "code",
   "execution_count": 84,
   "metadata": {},
   "outputs": [],
   "source": [
    "data_path = '../data/NANOAOD_2017C.root'\n",
    "\n",
    "data = uproot.open(f'{data_path}:Events;1')"
   ]
  },
  {
   "cell_type": "code",
   "execution_count": 90,
   "metadata": {},
   "outputs": [
    {
     "name": "stdout",
     "output_type": "stream",
     "text": [
      "hlt_keys: ['HLT_Tau3Mu_Mu5_Mu1_TkMu1_IsoTau10_Charge1']\n",
      "Before filtering, Event #: 1615379\n",
      "After filtering, Event #: 122521\n"
     ]
    }
   ],
   "source": [
    "data_length = len(data['event'].array())\n",
    "\n",
    "\n",
    "target_hlt_keys = [\n",
    "    'HLT_Tau3Mu_Mu5_Mu1_TkMu1_IsoTau10_Charge1',\n",
    "    'HLT_Tau3Mu_Mu7_Mu1_TkMu1_IsoTau15_Charge1',\n",
    "    'HLT_Tau3Mu_Mu7_Mu1_TkMu1_Tau15_Charge1',\n",
    "]\n",
    "\n",
    "data_hlt_keys = data.keys(filter_name='HLT_Tau3Mu*')\n",
    "\n",
    "hlt_keys = [hlt_key for hlt_key in target_hlt_keys if hlt_key in data_hlt_keys]\n",
    "\n",
    "print(f\"hlt_keys: {hlt_keys}\")\n",
    "\n",
    "hlt_mask = ak.Array(np.zeros(data_length, dtype=bool))\n",
    "\n",
    "for hlt_key in hlt_keys:\n",
    "    hlt_mask = hlt_mask | data[hlt_key].array()\n",
    "\n",
    "\n",
    "print(f\"Before filtering, Event #: {data_length}\")\n",
    "print(f\"After filtering, Event #: {np.count_nonzero(hlt_mask)}\")"
   ]
  },
  {
   "cell_type": "code",
   "execution_count": 106,
   "metadata": {},
   "outputs": [
    {
     "name": "stdout",
     "output_type": "stream",
     "text": [
      "1615379\n",
      "122521\n",
      "[{nMuon: 2, Muon_pt: [6.05, 4.87], Muon_eta: [-1.68, ...], ...}, ..., {...}]\n",
      "{nMuon: 2, Muon_pt: [6.05, 4.87], Muon_eta: [-1.68, ...], Muon_phi: [...], ...}\n"
     ]
    }
   ],
   "source": [
    "muon_keys = [\n",
    "    'nMuon',\n",
    "    'Muon_pt',\n",
    "    'Muon_eta',\n",
    "    'Muon_phi',\n",
    "    'Muon_charge',\n",
    "    'Muon_mass',\n",
    "]\n",
    "\n",
    "tau_keys = [\n",
    "    'nTau',\n",
    "    'Tau_pt',\n",
    "    'Tau_eta',\n",
    "    'Tau_phi',\n",
    "    'Tau_charge',\n",
    "    'Tau_mass',\n",
    "]\n",
    "\n",
    "keys = muon_keys + tau_keys\n",
    "\n",
    "data_ak = data.arrays(keys)\n",
    "print(len(data_ak))\n",
    "\n",
    "data_ak = data_ak[hlt_mask]\n",
    "print(len(data_ak))\n",
    "\n",
    "print(data_ak)\n",
    "print(data_ak[0])"
   ]
  },
  {
   "cell_type": "code",
   "execution_count": 107,
   "metadata": {},
   "outputs": [
    {
     "name": "stdout",
     "output_type": "stream",
     "text": [
      "[[6.05, 4.87], [6.38, 3.93], [11.2, ..., 7.84], ..., [19, 5.52], [6.98, 4.25]]\n",
      "[[True, False], [True, False], [True, ...], ..., [True, True], [True, False]]\n"
     ]
    }
   ],
   "source": [
    "print(data_ak['Muon_pt'])\n",
    "\n",
    "muon_mask = data_ak['Muon_pt'] > 5\n",
    "print(muon_mask)\n"
   ]
  },
  {
   "cell_type": "code",
   "execution_count": 81,
   "metadata": {},
   "outputs": [
    {
     "name": "stdout",
     "output_type": "stream",
     "text": [
      "[[True, True], [True, True], [True, ..., True], ..., [True, True], [True, True]]\n"
     ]
    }
   ],
   "source": [
    "muon_mask = (data_ak['Muon_pt'] > 1) & (np.abs(data_ak['Muon_eta']) < 4)\n",
    "print(muon_mask)\n",
    "\n",
    "### HLT masking 처럼 앞쪽에서 array로 뽑아낸걸 이용해서 filter 만들고 걸러내야할거같은데..?"
   ]
  }
 ],
 "metadata": {
  "kernelspec": {
   "display_name": "Python 3",
   "language": "python",
   "name": "python3"
  },
  "language_info": {
   "codemirror_mode": {
    "name": "ipython",
    "version": 3
   },
   "file_extension": ".py",
   "mimetype": "text/x-python",
   "name": "python",
   "nbconvert_exporter": "python",
   "pygments_lexer": "ipython3",
   "version": "3.11.7"
  }
 },
 "nbformat": 4,
 "nbformat_minor": 2
}
