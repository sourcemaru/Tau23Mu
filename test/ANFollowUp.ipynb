{
 "cells": [
  {
   "cell_type": "code",
   "execution_count": 76,
   "metadata": {},
   "outputs": [],
   "source": [
    "import uproot\n",
    "import numpy as np\n",
    "import awkward as ak\n",
    "#import pandas as pd\n",
    "#import matplotlib.pyplot as plt"
   ]
  },
  {
   "cell_type": "code",
   "execution_count": 77,
   "metadata": {},
   "outputs": [],
   "source": [
    "data_path = '../data/NANOAOD_2017C.root'\n",
    "\n",
    "data = uproot.open(f'{data_path}:Events;1')"
   ]
  },
  {
   "cell_type": "code",
   "execution_count": 78,
   "metadata": {},
   "outputs": [],
   "source": [
    "data_length = len(data['event'].array())\n",
    "\n",
    "hlt_keys = data.keys(filter_name='HLT_Tau3Mu*')\n",
    "hlt_mask = ak.Array(np.zeros(data_length, dtype=bool))\n",
    "for hlt_key in hlt_keys:\n",
    "    hlt_mask = hlt_mask | data[hlt_key].array()\n",
    "\n",
    "#print(np.count_nonzero(data[hlt_keys[1]].array()))\n",
    "#print(np.count_nonzero(hlt_mask))"
   ]
  },
  {
   "cell_type": "code",
   "execution_count": 79,
   "metadata": {},
   "outputs": [
    {
     "name": "stdout",
     "output_type": "stream",
     "text": [
      "['nMuon', 'Muon_pt', 'Muon_eta', 'Muon_phi', 'Muon_charge', 'Muon_mass', 'nTau', 'Tau_pt', 'Tau_eta', 'Tau_phi', 'Tau_charge', 'Tau_mass']\n",
      "1615379\n",
      "126477\n"
     ]
    }
   ],
   "source": [
    "muon_keys = [\n",
    "    'nMuon',\n",
    "    'Muon_pt',\n",
    "    'Muon_eta',\n",
    "    'Muon_phi',\n",
    "    'Muon_charge',\n",
    "    'Muon_mass',\n",
    "]\n",
    "\n",
    "tau_keys = [\n",
    "    'nTau',\n",
    "    'Tau_pt',\n",
    "    'Tau_eta',\n",
    "    'Tau_phi',\n",
    "    'Tau_charge',\n",
    "    'Tau_mass',\n",
    "]\n",
    "\n",
    "keys = muon_keys + tau_keys\n",
    "print(keys)\n",
    "\n",
    "data_ak = data.arrays(keys)\n",
    "print(len(data_ak))\n",
    "\n",
    "data_ak = data_ak[hlt_mask]\n",
    "print(len(data_ak))"
   ]
  },
  {
   "cell_type": "code",
   "execution_count": 81,
   "metadata": {},
   "outputs": [
    {
     "name": "stdout",
     "output_type": "stream",
     "text": [
      "[[True, True], [True, True], [True, ..., True], ..., [True, True], [True, True]]\n"
     ]
    }
   ],
   "source": [
    "muon_mask = (data_ak['Muon_pt'] > 1) & (np.abs(data_ak['Muon_eta']) < 4)\n",
    "print(muon_mask)"
   ]
  }
 ],
 "metadata": {
  "kernelspec": {
   "display_name": "Python 3",
   "language": "python",
   "name": "python3"
  },
  "language_info": {
   "codemirror_mode": {
    "name": "ipython",
    "version": 3
   },
   "file_extension": ".py",
   "mimetype": "text/x-python",
   "name": "python",
   "nbconvert_exporter": "python",
   "pygments_lexer": "ipython3",
   "version": "3.11.7"
  }
 },
 "nbformat": 4,
 "nbformat_minor": 2
}
