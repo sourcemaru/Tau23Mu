{
 "cells": [
  {
   "cell_type": "code",
   "execution_count": 101,
   "metadata": {},
   "outputs": [],
   "source": [
    "import uproot\n",
    "import numpy as np\n",
    "import awkward as ak\n",
    "import matplotlib.pyplot as plt\n",
    "#import pandas as pd"
   ]
  },
  {
   "cell_type": "code",
   "execution_count": 3,
   "metadata": {},
   "outputs": [],
   "source": [
    "data_path = '../data/DoubleMuonLowMass_Run2018A.root'\n",
    "\n",
    "data = uproot.open(f'{data_path}:Events;1')"
   ]
  },
  {
   "cell_type": "code",
   "execution_count": 4,
   "metadata": {},
   "outputs": [
    {
     "name": "stdout",
     "output_type": "stream",
     "text": [
      "hlt_keys: ['HLT_Tau3Mu_Mu7_Mu1_TkMu1_IsoTau15_Charge1', 'HLT_Tau3Mu_Mu7_Mu1_TkMu1_Tau15_Charge1']\n",
      "Before filtering, Event #: 2040266\n",
      "After filtering, Event #: 322902\n"
     ]
    }
   ],
   "source": [
    "data_length = len(data['event'].array())\n",
    "\n",
    "\n",
    "target_hlt_keys = [\n",
    "    'HLT_Tau3Mu_Mu5_Mu1_TkMu1_IsoTau10_Charge1',\n",
    "    'HLT_Tau3Mu_Mu7_Mu1_TkMu1_IsoTau15_Charge1',\n",
    "    'HLT_Tau3Mu_Mu7_Mu1_TkMu1_Tau15_Charge1',\n",
    "]\n",
    "\n",
    "data_hlt_keys = data.keys(filter_name='HLT_Tau3Mu*')\n",
    "\n",
    "hlt_keys = [hlt_key for hlt_key in target_hlt_keys if hlt_key in data_hlt_keys]\n",
    "\n",
    "print(f\"hlt_keys: {hlt_keys}\")\n",
    "\n",
    "hlt_mask = ak.Array(np.zeros(data_length, dtype=bool))\n",
    "\n",
    "for hlt_key in hlt_keys:\n",
    "    hlt_mask = hlt_mask | data[hlt_key].array()\n",
    "\n",
    "\n",
    "print(f\"Before filtering, Event #: {data_length}\")\n",
    "print(f\"After filtering, Event #: {np.count_nonzero(hlt_mask)}\")"
   ]
  },
  {
   "cell_type": "code",
   "execution_count": 148,
   "metadata": {},
   "outputs": [
    {
     "name": "stdout",
     "output_type": "stream",
     "text": [
      "322902\n",
      "13802\n"
     ]
    }
   ],
   "source": [
    "muon_eta = data['Muon_eta'].array()[hlt_mask]\n",
    "muon_pt = data['Muon_pt'].array()[hlt_mask]\n",
    "muon_medium_id = data['Muon_mediumId'].array()[hlt_mask]\n",
    "\n",
    "print(len(muon_pt))\n",
    "\n",
    "muon_mask = ( (muon_pt > 3.5) & (abs(muon_eta) <= 1.2) & (muon_medium_id) ) \\\n",
    "          | ( (muon_pt > 2.0) & (abs(muon_eta <= 2.4)) & (abs(muon_eta >= 1.2)) & (muon_medium_id) )\n",
    "\n",
    "\n",
    "muon_pt = muon_pt[muon_mask]\n",
    "\n",
    "muon_pt = muon_pt[ak.count(muon_pt, axis=1) >= 3]\n",
    "\n",
    "#muon_pt = ak.sort(muon_pt, ascending=False)\n",
    "\n",
    "\n",
    "print(len(muon_pt))"
   ]
  },
  {
   "cell_type": "code",
   "execution_count": 149,
   "metadata": {},
   "outputs": [
    {
     "name": "stdout",
     "output_type": "stream",
     "text": [
      "[9.19, 14.4, 9.54, 7.66, 12.1, 11.2, ..., 20, 7.67, 13.9, 7.47, 8.42, 17.7]\n",
      "13802\n",
      "[9, 7.24, 4.14, 7.07, 4.61, 8.23, 6.41, ..., 6.44, 3.96, 9.45, 3.8, 5, 5.42]\n",
      "13802\n",
      "[4.37, 4.63, 3.23, 4, 4.58, 3.65, 3.64, ..., 3.59, 3.26, 6.43, 3.76, 3.99, 4.94]\n",
      "14496\n"
     ]
    }
   ],
   "source": [
    "leading_muon_pt = ak.drop_none(muon_pt[:, 0])\n",
    "subleading_muon_pt = ak.drop_none(muon_pt[:, 1])\n",
    "trailing_muon_pt = ak.drop_none(ak.flatten(muon_pt[:, 2:]))\n",
    "\n",
    "print(leading_muon_pt)\n",
    "print(len(leading_muon_pt))\n",
    "print(subleading_muon_pt)\n",
    "print(len(subleading_muon_pt))\n",
    "print(trailing_muon_pt)\n",
    "print(len(trailing_muon_pt))"
   ]
  },
  {
   "cell_type": "code",
   "execution_count": 152,
   "metadata": {},
   "outputs": [
    {
     "data": {
      "image/png": "[encoded data removed]",
      "text/plain": [
       "<Figure size 640x480 with 1 Axes>"
      ]
     },
     "metadata": {},
     "output_type": "display_data"
    }
   ],
   "source": [
    "plt.hist(leading_muon_pt,    bins=60, alpha=0.6, range=(0, 60), label=\"leading_muon\")\n",
    "plt.hist(subleading_muon_pt, bins=60, alpha=0.6, range=(0, 60), label=\"subleading_muon\")\n",
    "plt.hist(trailing_muon_pt,   bins=60, alpha=0.6, range=(0, 60), label=\"trailing_muon\")\n",
    "plt.xlim(0, 60)\n",
    "plt.xlabel(\"pT [GeV]\")\n",
    "plt.ylabel(\"entries\")\n",
    "plt.legend()\n",
    "plt.show()\n"
   ]
  }
 ],
 "metadata": {
  "kernelspec": {
   "display_name": "Python 3",
   "language": "python",
   "name": "python3"
  },
  "language_info": {
   "codemirror_mode": {
    "name": "ipython",
    "version": 3
   },
   "file_extension": ".py",
   "mimetype": "text/x-python",
   "name": "python",
   "nbconvert_exporter": "python",
   "pygments_lexer": "ipython3",
   "version": "3.11.7"
  }
 },
 "nbformat": 4,
 "nbformat_minor": 2
}
