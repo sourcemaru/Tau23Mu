{
 "cells": [
  {
   "cell_type": "code",
   "execution_count": 1,
   "metadata": {},
   "outputs": [],
   "source": [
    "import awkward as ak\n",
    "import vector\n",
    "import numpy as np\n",
    "\n"
   ]
  },
  {
   "cell_type": "code",
   "execution_count": 15,
   "metadata": {},
   "outputs": [
    {
     "name": "stdout",
     "output_type": "stream",
     "text": [
      "[[{x: 1, y: 1.1, z: 0.1}, {x: 2, y: 2.2, z: 0.2}],\n",
      " [],\n",
      " [{x: 3, y: 3.3, z: 0.3}],\n",
      " [{x: 4, y: 4.4, z: 0.4}, {x: 5, y: 5.5, ...}, {x: 6, y: 6.6, z: 0.6}]]\n",
      "None\n"
     ]
    },
    {
     "name": "stdout",
     "output_type": "stream",
     "text": [
      "\u001b[0;31mType:\u001b[0m        VectorArray3D\n",
      "\u001b[0;31mString form:\u001b[0m [[{x: 1, y: 1.1, z: 0.1}, {x: 2, y: 2.2, z: 0.2}], [], ..., [{x: 4, ...}, ...]]\n",
      "\u001b[0;31mLength:\u001b[0m      4\n",
      "\u001b[0;31mFile:\u001b[0m        ~/.micromamba/envs/ds4hep/lib/python3.11/site-packages/vector/backends/awkward.py\n",
      "\u001b[0;31mDocstring:\u001b[0m  \n",
      "Defines ``awkward`` behavior for a 3 dimensional vector.\n",
      "\n",
      "See :class:`VectorRecord3D` and :class:`MomentumArray3D`\n",
      "for the corresponding ``Record`` and ``Momentum`` classes."
     ]
    }
   ],
   "source": [
    "test = ak.Array(\n",
    "    [\n",
    "        [{\"x\": 1, \"y\": 1.1, \"z\": 0.1}, {\"x\": 2, \"y\": 2.2, \"z\": 0.2}],\n",
    "        [],\n",
    "        [{\"x\": 3, \"y\": 3.3, \"z\": 0.3}],\n",
    "        [\n",
    "            {\"x\": 4, \"y\": 4.4, \"z\": 0.4},\n",
    "            {\"x\": 5, \"y\": 5.5, \"z\": 0.5},\n",
    "            {\"x\": 6, \"y\": 6.6, \"z\": 0.6},\n",
    "        ],\n",
    "    ],\n",
    "    with_name=\"Vector3D\",\n",
    ")\n",
    "\n",
    "print(test.show())\n",
    "test?"
   ]
  },
  {
   "cell_type": "code",
   "execution_count": 14,
   "metadata": {},
   "outputs": [
    {
     "name": "stdout",
     "output_type": "stream",
     "text": [
      "\u001b[0;31mType:\u001b[0m        VectorArray3D\n",
      "\u001b[0;31mString form:\u001b[0m [[{x: 1, y: 1.1, z: 0.1}, {x: 2, y: 2.2, z: 0.2}], [], ..., [{x: 4, ...}, ...]]\n",
      "\u001b[0;31mLength:\u001b[0m      4\n",
      "\u001b[0;31mFile:\u001b[0m        ~/.micromamba/envs/ds4hep/lib/python3.11/site-packages/vector/backends/awkward.py\n",
      "\u001b[0;31mDocstring:\u001b[0m  \n",
      "Defines ``awkward`` behavior for a 3 dimensional vector.\n",
      "\n",
      "See :class:`VectorRecord3D` and :class:`MomentumArray3D`\n",
      "for the corresponding ``Record`` and ``Momentum`` classes."
     ]
    }
   ],
   "source": [
    "test2 = vector.register_awkward()\n",
    "\n",
    "test2 = ak.Array(\n",
    "    [\n",
    "        [{\"x\": 1, \"y\": 1.1, \"z\": 0.1}, {\"x\": 2, \"y\": 2.2, \"z\": 0.2}],\n",
    "        [],\n",
    "        [{\"x\": 3, \"y\": 3.3, \"z\": 0.3}],\n",
    "        [\n",
    "            {\"x\": 4, \"y\": 4.4, \"z\": 0.4},\n",
    "            {\"x\": 5, \"y\": 5.5, \"z\": 0.5},\n",
    "            {\"x\": 6, \"y\": 6.6, \"z\": 0.6},\n",
    "        ],\n",
    "    ],\n",
    "    with_name=\"Vector3D\",\n",
    ")\n",
    "\n",
    "test2?"
   ]
  }
 ],
 "metadata": {
  "kernelspec": {
   "display_name": "Python 3",
   "language": "python",
   "name": "python3"
  },
  "language_info": {
   "codemirror_mode": {
    "name": "ipython",
    "version": 3
   },
   "file_extension": ".py",
   "mimetype": "text/x-python",
   "name": "python",
   "nbconvert_exporter": "python",
   "pygments_lexer": "ipython3",
   "version": "3.11.7"
  }
 },
 "nbformat": 4,
 "nbformat_minor": 2
}
