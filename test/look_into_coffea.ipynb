{
 "cells": [
  {
   "cell_type": "code",
   "execution_count": 1,
   "metadata": {},
   "outputs": [],
   "source": [
    "import awkward as ak\n",
    "from coffea.nanoevents import NanoEventsFactory, NanoAODSchema\n"
   ]
  },
  {
   "cell_type": "code",
   "execution_count": 36,
   "metadata": {},
   "outputs": [],
   "source": [
    "path = \"../data/NANOAOD_2017C.root\"\n",
    "\n",
    "events = NanoEventsFactory.from_root(\n",
    "    {path: \"Events\"},\n",
    "    schemaclass=NanoAODSchema,\n",
    "    metadata={\"dataset\": \"SingleMuon\"},\n",
    ").events()"
   ]
  },
  {
   "cell_type": "code",
   "execution_count": 60,
   "metadata": {},
   "outputs": [
    {
     "name": "stdout",
     "output_type": "stream",
     "text": [
      "['fixedGridRhoFastjetCentralChargedPileUp', 'RawMET', 'SoftActivityJetHT10', 'Flag', 'run', 'IsoTrack', 'SoftActivityJetHT5', 'Electron', 'METFixEE2017', 'CaloMET', 'OtherPV', 'SV', 'Muon', 'TkMET', 'FsrPhoton', 'ChsMET', 'L1', 'SoftActivityJetHT2', 'event', 'SoftActivityJetNjets2', 'fixedGridRhoFastjetCentral', 'fixedGridRhoFastjetCentralNeutral', 'RawPuppiMET', 'SoftActivityJetHT', 'TrigObj', 'SoftActivityJetNjets10', 'MET', 'Tau', 'luminosityBlock', 'PuppiMET', 'SubJet', 'SoftActivityJet', 'Jet', 'Photon', 'fixedGridRhoFastjetAll', 'fixedGridRhoFastjetCentralCalo', 'L1PreFiringWeight', 'PV', 'HLT', 'FatJet', 'HLTriggerFirstPath', 'HLTriggerFinalPath', 'CorrT1METJet', 'L1Reco', 'SoftActivityJetNjets5']\n",
      "['dxy', 'dxyErr', 'dxybs', 'dz', 'dzErr', 'eta', 'ip3d', 'jetPtRelv2', 'jetRelIso', 'mass', 'miniPFRelIso_all', 'miniPFRelIso_chg', 'pfRelIso03_all', 'pfRelIso03_chg', 'pfRelIso04_all', 'phi', 'pt', 'ptErr', 'segmentComp', 'sip3d', 'tkRelIso', 'tunepRelPt', 'mvaLowPt', 'mvaTTH', 'charge', 'jetIdx', 'nStations', 'nTrackerLayers', 'pdgId', 'tightCharge', 'fsrPhotonIdx', 'highPtId', 'highPurity', 'inTimeMuon', 'isGlobal', 'isPFcand', 'isTracker', 'looseId', 'mediumId', 'mediumPromptId', 'miniIsoId', 'multiIsoId', 'mvaId', 'pfIsoId', 'softId', 'softMvaId', 'tightId', 'tkIsoId', 'triggerIdLoose', 'cleanmask', 'fsrPhotonIdxG', 'jetIdxG']\n",
      "<bound method Array.__dir__ of dask.awkward<Muon, npartitions=1>>\n",
      "['__class__', '__delattr__', '__dir__', '__doc__', '__eq__', '__format__', '__ge__', '__get__', '__getattribute__', '__getstate__', '__gt__', '__hash__', '__init__', '__init_subclass__', '__le__', '__lt__', '__ne__', '__new__', '__reduce__', '__reduce_ex__', '__repr__', '__self__', '__self_class__', '__setattr__', '__sizeof__', '__str__', '__subclasshook__', '__thisclass__', '_dask', '_divisions', '_meta', '_name', 'attrs', 'behavior', 'charge', 'cleanmask', 'clear_divisions', 'compute', 'dask', 'defined_divisions', 'divisions', 'dxy', 'dxyErr', 'dxybs', 'dz', 'dzErr', 'eager_compute_divisions', 'eta', 'fields', 'form', 'fsrPhotonIdx', 'fsrPhotonIdxG', 'head', 'highPtId', 'highPurity', 'inTimeMuon', 'ip3d', 'isGlobal', 'isPFcand', 'isTracker', 'jetIdx', 'jetIdxG', 'jetPtRelv2', 'jetRelIso', 'keys', 'keys_array', 'known_divisions', 'layout', 'looseId', 'map_partitions', 'mask', 'mass', 'mediumId', 'mediumPromptId', 'miniIsoId', 'miniPFRelIso_all', 'miniPFRelIso_chg', 'multiIsoId', 'mvaId', 'mvaLowPt', 'mvaTTH', 'nStations', 'nTrackerLayers', 'name', 'ndim', 'npartitions', 'partitions', 'pdgId', 'persist', 'pfIsoId', 'pfRelIso03_all', 'pfRelIso03_chg', 'pfRelIso04_all', 'phi', 'pt', 'ptErr', 'repartition', 'reset_meta', 'segmentComp', 'sip3d', 'softId', 'softMvaId', 'tightCharge', 'tightId', 'tkIsoId', 'tkRelIso', 'to_dask_array', 'to_dask_bag', 'to_delayed', 'to_parquet', 'triggerIdLoose', 'tunepRelPt', 'type', 'visualize']\n"
     ]
    }
   ],
   "source": [
    "print(events.fields)\n",
    "print(events.Muon.fields)\n",
    "\n",
    "print(events.Muon.__dir__)\n",
    "print(dir(events.Muon))"
   ]
  },
  {
   "cell_type": "code",
   "execution_count": 48,
   "metadata": {},
   "outputs": [
    {
     "name": "stdout",
     "output_type": "stream",
     "text": [
      "[[8.38, 11.6], [6.15, 5.67], [9.08, 5.87], ..., [...], [21.5, 13.4], [15.3]]\n"
     ]
    }
   ],
   "source": [
    "print(events.Muon.energy.compute())"
   ]
  }
 ],
 "metadata": {
  "kernelspec": {
   "display_name": "Python 3",
   "language": "python",
   "name": "python3"
  },
  "language_info": {
   "codemirror_mode": {
    "name": "ipython",
    "version": 3
   },
   "file_extension": ".py",
   "mimetype": "text/x-python",
   "name": "python",
   "nbconvert_exporter": "python",
   "pygments_lexer": "ipython3",
   "version": "3.11.7"
  }
 },
 "nbformat": 4,
 "nbformat_minor": 2
}
